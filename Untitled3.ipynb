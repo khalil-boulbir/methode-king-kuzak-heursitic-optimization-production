{
 "cells": [
  {
   "cell_type": "code",
   "execution_count": 23,
   "id": "b8d8e4fb",
   "metadata": {},
   "outputs": [],
   "source": [
    "import numpy as np\n",
    "import pandas as pd"
   ]
  },
  {
   "cell_type": "code",
   "execution_count": 76,
   "id": "6dd2bf6c",
   "metadata": {},
   "outputs": [
    {
     "name": "stdout",
     "output_type": "stream",
     "text": [
      "input data\n",
      "     M1  M2  M3  M4  M5  M6  M7  M8  M9  M10  M11  M12\n",
      "P1   1   1   0   1   0   0   0   1   0    1    0    0\n",
      "P2   0   0   0   0   1   0   1   0   0    0    0    1\n",
      "P3   0   0   1   0   0   1   0   0   1    0    0    0\n",
      "P4   1   1   0   1   0   0   0   1   0    1    0    0\n",
      "P5   0   0   0   1   0   1   0   0   0    1    0    0\n",
      "P6   1   0   0   1   0   0   0   1   0    0    0    0\n",
      "P7   0   0   1   0   0   1   0   0   1    0    0    1\n",
      "P8   0   0   0   0   0   0   1   0   0    0    1    1\n",
      "permiere etration\n",
      "     M1  M2  M3  M4  M5  M6  M7  M8  M9  M10  M11  M12\n",
      "P1   1   1   0   1   0   0   0   1   0    1    0    0\n",
      "P2   1   1   0   1   0   0   0   1   0    1    0    0\n",
      "P3   1   0   0   1   0   0   0   1   0    0    0    0\n",
      "P4   0   0   1   0   0   1   0   0   1    0    0    1\n",
      "P5   0   0   1   0   0   1   0   0   1    0    0    0\n",
      "P6   0   0   0   1   0   1   0   0   0    1    0    0\n",
      "P7   0   0   0   0   1   0   1   0   0    0    0    1\n",
      "P8   0   0   0   0   0   0   1   0   0    0    1    1\n",
      "2 etration\n",
      "     M1  M2  M3  M4  M5  M6  M7  M8  M9  M10  M11  M12\n",
      "P1   1   1   1   1   1   0   0   0   0    0    0    0\n",
      "P2   1   1   1   1   1   0   0   0   0    0    0    0\n",
      "P3   1   1   1   0   0   0   0   0   0    0    0    0\n",
      "P4   0   0   0   0   0   1   1   1   1    0    0    0\n",
      "P5   0   0   0   0   0   1   1   1   0    0    0    0\n",
      "P6   1   0   0   1   0   1   0   0   0    0    0    0\n",
      "P7   0   0   0   0   0   0   0   0   1    1    1    0\n",
      "P8   0   0   0   0   0   0   0   0   1    1    0    1\n",
      "[[1, 1, 1, 1, 1, 0, 0, 0, 0, 0, 0, 0], [1, 1, 1, 1, 1, 0, 0, 0, 0, 0, 0, 0], [1, 1, 1, 0, 0, 0, 0, 0, 0, 0, 0, 0], [0, 0, 0, 0, 0, 1, 1, 1, 1, 0, 0, 0], [0, 0, 0, 0, 0, 1, 1, 1, 0, 0, 0, 0], [1, 0, 0, 1, 0, 1, 0, 0, 0, 0, 0, 0], [0, 0, 0, 0, 0, 0, 0, 0, 1, 1, 1, 0], [0, 0, 0, 0, 0, 0, 0, 0, 1, 1, 0, 1]]\n"
     ]
    }
   ],
   "source": [
    "MX={1:[1,1,0,1,0,0,0,1,0,1,0,0],2:[0,0,0,0,1,0,1,0,0,0,0,1],3:[0,0,1,0,0,1,0,0,1,0,0,0],4:[1,1,0,1,0,0,0,1,0,1,0,0],5:[0,0,0,1,0,1,0,0,0,1,0,0],6:[1,0,0,1,0,0,0,1,0,0,0,0],7:[0,0,1,0,0,1,0,0,1,0,0,1],8:[0,0,0,0,0,0,1,0,0,0,1,1]}\n",
    "Matrix=np.array([[1,1,0,1,0,0,0,1,0,1,0,0],[0,0,0,0,1,0,1,0,0,0,0,1],[0,0,1,0,0,1,0,0,1,0,0,0],[1,1,0,1,0,0,0,1,0,1,0,0],[0,0,0,1,0,1,0,0,0,1,0,0],[1,0,0,1,0,0,0,1,0,0,0,0],[0,0,1,0,0,1,0,0,1,0,0,1],[0,0,0,0,0,0,1,0,0,0,1,1]])\n",
    "data=pd.DataFrame(Matrix,columns=[\"M1\",\"M2\",\"M3\",\"M4\",\"M5\",\"M6\",\"M7\",\"M8\",\"M9\",\"M10\",\"M11\",\"M12\"],index=[\"P1\",\"P2\",\"P3\",\"P4\",\"P5\",\"P6\",\"P7\",\"P8\"])\n",
    "print(\"input data\\n\",data)\n",
    "coef=[]\n",
    "pr={}\n",
    "n=len(MX[1])\n",
    "for i in range(n):\n",
    "    coef.append(2**((n-1)-i))\n",
    "for i in MX:\n",
    "    a=0\n",
    "    for j in range(n):\n",
    "        p=MX[i][j]*coef[j] \n",
    "        a=a+p\n",
    "    pr[i]=a\n",
    "Prod=dict(sorted(pr.items(),key=lambda x:x[1],reverse=True))\n",
    "M=[]\n",
    "M2={}\n",
    "for i in Prod.keys():\n",
    "    M.append(MX[i])\n",
    "MX=pd.DataFrame(M,columns=[\"M1\",\"M2\",\"M3\",\"M4\",\"M5\",\"M6\",\"M7\",\"M8\",\"M9\",\"M10\",\"M11\",\"M12\"],index=[\"P1\",\"P2\",\"P3\",\"P4\",\"P5\",\"P6\",\"P7\",\"P8\"])\n",
    "print(\"permiere etration\\n\",MX)\n",
    "for i in range(1,len(M[0])+1):\n",
    "    m=[]\n",
    "    for j in range(len(M)):\n",
    "\t    m.append(M[j][i-1])\n",
    "    M2[i]=m\n",
    "#########\n",
    "MX=M2\n",
    "\n",
    "n=len(MX[1])\n",
    "coef=[]\n",
    "for i in range(n):\n",
    "    coef.append(2**((n-1)-i))   \n",
    "for i in MX:\n",
    "    p=0\n",
    "    a=0\n",
    "    for j in range(n):\n",
    "        p=MX[i][j]*coef[j] \n",
    "        a=a+p\n",
    "    pr[i]=a\n",
    "Prod=dict(sorted(pr.items(),key=lambda x:x[1],reverse=True))\n",
    "\n",
    "M=[]\n",
    "M2=[]\n",
    "for i in Prod.keys():\n",
    "    M.append(MX[i]) \n",
    "for i in range(1,len(M[0])+1):\n",
    "    m=[]\n",
    "    for j in range(len(M)):\n",
    "\t    m.append(M[j][i-1])\n",
    "    M2.append(m)\n",
    "    \n",
    "MX=pd.DataFrame(M2,columns=[\"M1\",\"M2\",\"M3\",\"M4\",\"M5\",\"M6\",\"M7\",\"M8\",\"M9\",\"M10\",\"M11\",\"M12\"],index=[\"P1\",\"P2\",\"P3\",\"P4\",\"P5\",\"P6\",\"P7\",\"P8\"])\n",
    "print(\"2 etration\\n\",MX)\n",
    "print(M2)\n"
   ]
  },
  {
   "cell_type": "code",
   "execution_count": null,
   "id": "b43ea06c",
   "metadata": {},
   "outputs": [],
   "source": []
  }
 ],
 "metadata": {
  "kernelspec": {
   "display_name": "Python 3 (ipykernel)",
   "language": "python",
   "name": "python3"
  },
  "language_info": {
   "codemirror_mode": {
    "name": "ipython",
    "version": 3
   },
   "file_extension": ".py",
   "mimetype": "text/x-python",
   "name": "python",
   "nbconvert_exporter": "python",
   "pygments_lexer": "ipython3",
   "version": "3.9.7"
  }
 },
 "nbformat": 4,
 "nbformat_minor": 5
}
